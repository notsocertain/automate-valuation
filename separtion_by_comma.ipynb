{
 "cells": [
  {
   "cell_type": "code",
   "execution_count": 2,
   "id": "1e66a278-c7ca-4c50-bc2a-22e2e4051679",
   "metadata": {},
   "outputs": [
    {
     "name": "stdout",
     "output_type": "stream",
     "text": [
      "Collecting pandas\n",
      "  Downloading pandas-2.2.2-cp311-cp311-macosx_11_0_arm64.whl.metadata (19 kB)\n",
      "Collecting numpy\n",
      "  Downloading numpy-1.26.4-cp311-cp311-macosx_11_0_arm64.whl.metadata (114 kB)\n",
      "\u001b[2K     \u001b[90m━━━━━━━━━━━━━━━━━━━━━━━━━━━━━━━━━━━━━━━\u001b[0m \u001b[32m114.8/114.8 kB\u001b[0m \u001b[31m1.6 MB/s\u001b[0m eta \u001b[36m0:00:00\u001b[0ma \u001b[36m0:00:01\u001b[0m\n",
      "\u001b[?25hRequirement already satisfied: python-dateutil>=2.8.2 in /opt/homebrew/Caskroom/miniconda/base/envs/new_env/lib/python3.11/site-packages (from pandas) (2.9.0)\n",
      "Requirement already satisfied: pytz>=2020.1 in /opt/homebrew/Caskroom/miniconda/base/envs/new_env/lib/python3.11/site-packages (from pandas) (2024.1)\n",
      "Collecting tzdata>=2022.7 (from pandas)\n",
      "  Downloading tzdata-2024.1-py2.py3-none-any.whl.metadata (1.4 kB)\n",
      "Requirement already satisfied: six>=1.5 in /opt/homebrew/Caskroom/miniconda/base/envs/new_env/lib/python3.11/site-packages (from python-dateutil>=2.8.2->pandas) (1.16.0)\n",
      "Downloading pandas-2.2.2-cp311-cp311-macosx_11_0_arm64.whl (11.3 MB)\n",
      "\u001b[2K   \u001b[90m━━━━━━━━━━━━━━━━━━━━━━━━━━━━━━━━━━━━━━━━\u001b[0m \u001b[32m11.3/11.3 MB\u001b[0m \u001b[31m29.8 MB/s\u001b[0m eta \u001b[36m0:00:00\u001b[0m00:01\u001b[0m0:01\u001b[0m\n",
      "\u001b[?25hDownloading numpy-1.26.4-cp311-cp311-macosx_11_0_arm64.whl (14.0 MB)\n",
      "\u001b[2K   \u001b[90m━━━━━━━━━━━━━━━━━━━━━━━━━━━━━━━━━━━━━━━━\u001b[0m \u001b[32m14.0/14.0 MB\u001b[0m \u001b[31m37.9 MB/s\u001b[0m eta \u001b[36m0:00:00\u001b[0m00:01\u001b[0m00:01\u001b[0m\n",
      "\u001b[?25hDownloading tzdata-2024.1-py2.py3-none-any.whl (345 kB)\n",
      "\u001b[2K   \u001b[90m━━━━━━━━━━━━━━━━━━━━━━━━━━━━━━━━━━━━━━━━\u001b[0m \u001b[32m345.4/345.4 kB\u001b[0m \u001b[31m13.7 MB/s\u001b[0m eta \u001b[36m0:00:00\u001b[0m\n",
      "\u001b[?25hInstalling collected packages: tzdata, numpy, pandas\n",
      "Successfully installed numpy-1.26.4 pandas-2.2.2 tzdata-2024.1\n"
     ]
    }
   ],
   "source": [
    "!pip install pandas numpy"
   ]
  },
  {
   "cell_type": "code",
   "execution_count": 3,
   "id": "697997ff",
   "metadata": {},
   "outputs": [],
   "source": [
    "import pandas as pd\n",
    "import numpy as np"
   ]
  },
  {
   "cell_type": "code",
   "execution_count": 4,
   "id": "b980c9a2",
   "metadata": {},
   "outputs": [],
   "source": [
    "import pandas as pd\n",
    "\n",
    "# JSON-like data\n",
    "data = {\n",
    "    \"name_client\": [\"Mr. Niraj Bhandari\"],\n",
    "    \"address_client\": [\"Kanakai Ward No.04, Ilam\"],\n",
    "    \"owner\": [\"Mr. Devi Prasad Bhandari\"],\n",
    "    \"plot\": [\"111,222\"],\n",
    "    \"area\": [\"224,553\"],\n",
    "    \"address\": [\"kapan,dang\"],\n",
    "    \"ctzno\": [\"641/3269\"],\n",
    "    \"issuedate\": [\"2036/10/16 AD\"],\n",
    "    \"address_owner\": [\"Kanakai Ward No.04, Ilam\"],\n",
    "    \"relationship\": [\"Grandfather\"],\n",
    "    \"final\": [\"4000000\"]\n",
    "}\n",
    "\n",
    "# Split 'plot' and 'area' fields into lists\n",
    "plots = data[\"plot\"][0].split(',')\n",
    "areas = data[\"area\"][0].split(',')\n",
    "address = data[\"address\"][0].split(',')\n",
    "\n",
    "# Prepare data for DataFrame\n",
    "df_data = {\n",
    "    \"name_client\": [data[\"name_client\"][0]] * len(plots),\n",
    "    \"address_client\": [data[\"address_client\"][0]] * len(plots),\n",
    "    \"owner\": [data[\"owner\"][0]] * len(plots),\n",
    "    \"plot\": plots,\n",
    "    \"area\": areas,\n",
    "    \"address\": address,\n",
    "    \"ctzno\": [data[\"ctzno\"][0]] * len(plots),\n",
    "    \"issuedate\": [data[\"issuedate\"][0]] * len(plots),\n",
    "    \"address_owner\": [data[\"address_owner\"][0]] * len(plots),\n",
    "    \"relationship\": [data[\"relationship\"][0]] * len(plots),\n",
    "    \"final\": [data[\"final\"][0]] * len(plots)\n",
    "}\n",
    "\n",
    "# Create DataFrame\n",
    "df = pd.DataFrame(df_data)\n"
   ]
  },
  {
   "cell_type": "code",
   "execution_count": null,
   "id": "bb77c405",
   "metadata": {},
   "outputs": [],
   "source": []
  },
  {
   "cell_type": "code",
   "execution_count": 5,
   "id": "6fad6404",
   "metadata": {},
   "outputs": [
    {
     "data": {
      "text/html": [
       "<div>\n",
       "<style scoped>\n",
       "    .dataframe tbody tr th:only-of-type {\n",
       "        vertical-align: middle;\n",
       "    }\n",
       "\n",
       "    .dataframe tbody tr th {\n",
       "        vertical-align: top;\n",
       "    }\n",
       "\n",
       "    .dataframe thead th {\n",
       "        text-align: right;\n",
       "    }\n",
       "</style>\n",
       "<table border=\"1\" class=\"dataframe\">\n",
       "  <thead>\n",
       "    <tr style=\"text-align: right;\">\n",
       "      <th></th>\n",
       "      <th>name_client</th>\n",
       "      <th>address_client</th>\n",
       "      <th>owner</th>\n",
       "      <th>plot</th>\n",
       "      <th>area</th>\n",
       "      <th>address</th>\n",
       "      <th>ctzno</th>\n",
       "      <th>issuedate</th>\n",
       "      <th>address_owner</th>\n",
       "      <th>relationship</th>\n",
       "      <th>final</th>\n",
       "    </tr>\n",
       "  </thead>\n",
       "  <tbody>\n",
       "    <tr>\n",
       "      <th>0</th>\n",
       "      <td>Mr. Niraj Bhandari</td>\n",
       "      <td>Kanakai Ward No.04, Ilam</td>\n",
       "      <td>Mr. Devi Prasad Bhandari</td>\n",
       "      <td>111</td>\n",
       "      <td>224</td>\n",
       "      <td>kapan</td>\n",
       "      <td>641/3269</td>\n",
       "      <td>2036/10/16 AD</td>\n",
       "      <td>Kanakai Ward No.04, Ilam</td>\n",
       "      <td>Grandfather</td>\n",
       "      <td>4000000</td>\n",
       "    </tr>\n",
       "    <tr>\n",
       "      <th>1</th>\n",
       "      <td>Mr. Niraj Bhandari</td>\n",
       "      <td>Kanakai Ward No.04, Ilam</td>\n",
       "      <td>Mr. Devi Prasad Bhandari</td>\n",
       "      <td>222</td>\n",
       "      <td>553</td>\n",
       "      <td>dang</td>\n",
       "      <td>641/3269</td>\n",
       "      <td>2036/10/16 AD</td>\n",
       "      <td>Kanakai Ward No.04, Ilam</td>\n",
       "      <td>Grandfather</td>\n",
       "      <td>4000000</td>\n",
       "    </tr>\n",
       "  </tbody>\n",
       "</table>\n",
       "</div>"
      ],
      "text/plain": [
       "          name_client            address_client                     owner  \\\n",
       "0  Mr. Niraj Bhandari  Kanakai Ward No.04, Ilam  Mr. Devi Prasad Bhandari   \n",
       "1  Mr. Niraj Bhandari  Kanakai Ward No.04, Ilam  Mr. Devi Prasad Bhandari   \n",
       "\n",
       "  plot area address     ctzno      issuedate             address_owner  \\\n",
       "0  111  224   kapan  641/3269  2036/10/16 AD  Kanakai Ward No.04, Ilam   \n",
       "1  222  553    dang  641/3269  2036/10/16 AD  Kanakai Ward No.04, Ilam   \n",
       "\n",
       "  relationship    final  \n",
       "0  Grandfather  4000000  \n",
       "1  Grandfather  4000000  "
      ]
     },
     "execution_count": 5,
     "metadata": {},
     "output_type": "execute_result"
    }
   ],
   "source": [
    "df"
   ]
  },
  {
   "cell_type": "code",
   "execution_count": 6,
   "id": "9300111b",
   "metadata": {},
   "outputs": [
    {
     "data": {
      "text/plain": [
       "0    224\n",
       "1    553\n",
       "Name: area, dtype: object"
      ]
     },
     "execution_count": 6,
     "metadata": {},
     "output_type": "execute_result"
    }
   ],
   "source": [
    "df['area']"
   ]
  },
  {
   "cell_type": "code",
   "execution_count": 7,
   "id": "5db5cc89",
   "metadata": {},
   "outputs": [
    {
     "data": {
      "text/plain": [
       "pandas.core.series.Series"
      ]
     },
     "execution_count": 7,
     "metadata": {},
     "output_type": "execute_result"
    }
   ],
   "source": [
    "type(df['area'])"
   ]
  },
  {
   "cell_type": "code",
   "execution_count": 8,
   "id": "b8326859",
   "metadata": {},
   "outputs": [],
   "source": [
    "count =df['area'].count()"
   ]
  },
  {
   "cell_type": "code",
   "execution_count": 9,
   "id": "277169db",
   "metadata": {},
   "outputs": [],
   "source": [
    "total =0"
   ]
  },
  {
   "cell_type": "code",
   "execution_count": 10,
   "id": "968d07b7",
   "metadata": {},
   "outputs": [
    {
     "name": "stdout",
     "output_type": "stream",
     "text": [
      "0\n",
      "1\n"
     ]
    }
   ],
   "source": [
    "for i in range(0,count):\n",
    "    print(i)\n",
    "    value = int(df['area'][i])\n",
    "    total= total + value"
   ]
  },
  {
   "cell_type": "code",
   "execution_count": 58,
   "id": "bfa45bcd",
   "metadata": {},
   "outputs": [
    {
     "name": "stdout",
     "output_type": "stream",
     "text": [
      "777\n"
     ]
    }
   ],
   "source": [
    "print(total)"
   ]
  },
  {
   "cell_type": "code",
   "execution_count": 64,
   "id": "97caff05",
   "metadata": {},
   "outputs": [],
   "source": [
    "final =df['final'][0]"
   ]
  },
  {
   "cell_type": "code",
   "execution_count": 65,
   "id": "f868f701",
   "metadata": {},
   "outputs": [
    {
     "data": {
      "text/plain": [
       "'4000000'"
      ]
     },
     "execution_count": 65,
     "metadata": {},
     "output_type": "execute_result"
    }
   ],
   "source": [
    "final"
   ]
  },
  {
   "cell_type": "code",
   "execution_count": 68,
   "id": "b238bf78",
   "metadata": {},
   "outputs": [],
   "source": [
    "final =(int(final))"
   ]
  },
  {
   "cell_type": "code",
   "execution_count": 106,
   "id": "42aa1623",
   "metadata": {},
   "outputs": [],
   "source": [
    "rateAdopted = final/total"
   ]
  },
  {
   "cell_type": "code",
   "execution_count": 107,
   "id": "83f4a3a2",
   "metadata": {},
   "outputs": [
    {
     "data": {
      "text/plain": [
       "5148.005148005148"
      ]
     },
     "execution_count": 107,
     "metadata": {},
     "output_type": "execute_result"
    }
   ],
   "source": [
    "rateAdopted"
   ]
  },
  {
   "cell_type": "code",
   "execution_count": 108,
   "id": "fa59fedf",
   "metadata": {},
   "outputs": [],
   "source": [
    "weightedAverage = rateAdopted +0.1*rateAdopted"
   ]
  },
  {
   "cell_type": "code",
   "execution_count": 109,
   "id": "bdba4bbc",
   "metadata": {},
   "outputs": [
    {
     "data": {
      "text/plain": [
       "5662.805662805663"
      ]
     },
     "execution_count": 109,
     "metadata": {},
     "output_type": "execute_result"
    }
   ],
   "source": [
    "weightedAverage"
   ]
  },
  {
   "cell_type": "code",
   "execution_count": 110,
   "id": "6650ce88",
   "metadata": {},
   "outputs": [],
   "source": [
    "marketRate = weightedAverage + 0.1 *weightedAverage"
   ]
  },
  {
   "cell_type": "code",
   "execution_count": 111,
   "id": "9beeb5f1",
   "metadata": {},
   "outputs": [
    {
     "data": {
      "text/plain": [
       "6229.08622908623"
      ]
     },
     "execution_count": 111,
     "metadata": {},
     "output_type": "execute_result"
    }
   ],
   "source": [
    "marketRate"
   ]
  },
  {
   "cell_type": "code",
   "execution_count": 91,
   "id": "a697e9f3",
   "metadata": {},
   "outputs": [],
   "source": [
    "df=pd.read_excel('raw.xlsx')"
   ]
  },
  {
   "cell_type": "code",
   "execution_count": 104,
   "id": "f7b7ac96",
   "metadata": {},
   "outputs": [
    {
     "data": {
      "text/html": [
       "<div>\n",
       "<style scoped>\n",
       "    .dataframe tbody tr th:only-of-type {\n",
       "        vertical-align: middle;\n",
       "    }\n",
       "\n",
       "    .dataframe tbody tr th {\n",
       "        vertical-align: top;\n",
       "    }\n",
       "\n",
       "    .dataframe thead th {\n",
       "        text-align: right;\n",
       "    }\n",
       "</style>\n",
       "<table border=\"1\" class=\"dataframe\">\n",
       "  <thead>\n",
       "    <tr style=\"text-align: right;\">\n",
       "      <th></th>\n",
       "      <th>OwnerName</th>\n",
       "      <th>OwnershipType</th>\n",
       "      <th>OwnersAddress</th>\n",
       "      <th>CitizenshipNumebr</th>\n",
       "      <th>CitizenshipDate</th>\n",
       "      <th>Relationship</th>\n",
       "      <th>PlotNumbers1</th>\n",
       "      <th>PlotNumbers2</th>\n",
       "      <th>PlotNumbers3</th>\n",
       "      <th>Address1</th>\n",
       "      <th>Address2</th>\n",
       "      <th>Address3</th>\n",
       "      <th>AreaPlot1</th>\n",
       "      <th>AreaPlot2</th>\n",
       "      <th>AreaPlot3</th>\n",
       "      <th>AreaPlot1sqm</th>\n",
       "      <th>AreaPlot2sqm</th>\n",
       "      <th>AreaPlot3sqm</th>\n",
       "    </tr>\n",
       "  </thead>\n",
       "  <tbody>\n",
       "    <tr>\n",
       "      <th>0</th>\n",
       "      <td>sameep</td>\n",
       "      <td>sinlge</td>\n",
       "      <td>kapan</td>\n",
       "      <td>5555-4444</td>\n",
       "      <td>2066-06-05</td>\n",
       "      <td>father</td>\n",
       "      <td>111222</td>\n",
       "      <td>222</td>\n",
       "      <td>333</td>\n",
       "      <td>dang</td>\n",
       "      <td>ghorahi</td>\n",
       "      <td>tulsipur</td>\n",
       "      <td>0-1-2</td>\n",
       "      <td>0-1-5</td>\n",
       "      <td>0-1-8</td>\n",
       "      <td>550</td>\n",
       "      <td>600</td>\n",
       "      <td>1000</td>\n",
       "    </tr>\n",
       "    <tr>\n",
       "      <th>1</th>\n",
       "      <td>manongya</td>\n",
       "      <td>joint</td>\n",
       "      <td>budhanilkantha</td>\n",
       "      <td>555/565</td>\n",
       "      <td>2015-05-06</td>\n",
       "      <td>uncle</td>\n",
       "      <td>5,55,666</td>\n",
       "      <td>666</td>\n",
       "      <td>777</td>\n",
       "      <td>birgunj</td>\n",
       "      <td>betiya</td>\n",
       "      <td>muzaffarpur</td>\n",
       "      <td>0-1-3</td>\n",
       "      <td>0-2-3</td>\n",
       "      <td>0-2-8</td>\n",
       "      <td>400</td>\n",
       "      <td>300</td>\n",
       "      <td>800</td>\n",
       "    </tr>\n",
       "    <tr>\n",
       "      <th>2</th>\n",
       "      <td>manongya</td>\n",
       "      <td>joint</td>\n",
       "      <td>budhanilkantha</td>\n",
       "      <td>555/565</td>\n",
       "      <td>2015-05-06</td>\n",
       "      <td>uncle</td>\n",
       "      <td>5,55,666</td>\n",
       "      <td>666</td>\n",
       "      <td>777</td>\n",
       "      <td>birgunj</td>\n",
       "      <td>betiya</td>\n",
       "      <td>muzaffarpur</td>\n",
       "      <td>250 m2</td>\n",
       "      <td>0-2-3</td>\n",
       "      <td>0-2-8</td>\n",
       "      <td>400</td>\n",
       "      <td>300</td>\n",
       "      <td>800</td>\n",
       "    </tr>\n",
       "  </tbody>\n",
       "</table>\n",
       "</div>"
      ],
      "text/plain": [
       "  OwnerName OwnershipType   OwnersAddress CitizenshipNumebr CitizenshipDate  \\\n",
       "0    sameep        sinlge           kapan         5555-4444      2066-06-05   \n",
       "1  manongya         joint  budhanilkantha           555/565      2015-05-06   \n",
       "2  manongya         joint  budhanilkantha           555/565      2015-05-06   \n",
       "\n",
       "  Relationship PlotNumbers1  PlotNumbers2  PlotNumbers3 Address1 Address2  \\\n",
       "0       father       111222           222           333     dang  ghorahi   \n",
       "1        uncle     5,55,666           666           777  birgunj   betiya   \n",
       "2        uncle     5,55,666           666           777  birgunj   betiya   \n",
       "\n",
       "      Address3 AreaPlot1 AreaPlot2 AreaPlot3  AreaPlot1sqm  AreaPlot2sqm  \\\n",
       "0     tulsipur     0-1-2     0-1-5     0-1-8           550           600   \n",
       "1  muzaffarpur     0-1-3     0-2-3     0-2-8           400           300   \n",
       "2  muzaffarpur    250 m2     0-2-3     0-2-8           400           300   \n",
       "\n",
       "   AreaPlot3sqm  \n",
       "0          1000  \n",
       "1           800  \n",
       "2           800  "
      ]
     },
     "execution_count": 104,
     "metadata": {},
     "output_type": "execute_result"
    }
   ],
   "source": [
    "df"
   ]
  },
  {
   "cell_type": "code",
   "execution_count": 105,
   "id": "50d1703a",
   "metadata": {},
   "outputs": [
    {
     "data": {
      "text/plain": [
       "3"
      ]
     },
     "execution_count": 105,
     "metadata": {},
     "output_type": "execute_result"
    }
   ],
   "source": [
    "len(df)"
   ]
  },
  {
   "cell_type": "code",
   "execution_count": 102,
   "id": "d6ca187d",
   "metadata": {},
   "outputs": [],
   "source": [
    "import pandas as pd\n",
    "from docx import Document\n",
    "from docx.oxml.ns import qn\n",
    "from docx.oxml import OxmlElement\n",
    "from docx.shared import Inches"
   ]
  },
  {
   "cell_type": "code",
   "execution_count": 103,
   "id": "76cc9ce4",
   "metadata": {},
   "outputs": [],
   "source": [
    "# Creating the Word document\n",
    "doc = Document()"
   ]
  },
  {
   "cell_type": "code",
   "execution_count": 119,
   "id": "1fccaad9",
   "metadata": {},
   "outputs": [
    {
     "name": "stdout",
     "output_type": "stream",
     "text": [
      "Document saved at: Land_Rate_Report_with_Borders.docx\n"
     ]
    }
   ],
   "source": [
    "from docx import Document\n",
    "from docx.oxml import OxmlElement\n",
    "from docx.oxml.ns import qn\n",
    "\n",
    "def set_cell_border(cell, **kwargs):\n",
    "    \"\"\"\n",
    "    Set cell border for a table cell.\n",
    "    \"\"\"\n",
    "    tc = cell._element\n",
    "    tcPr = tc.get_or_add_tcPr()\n",
    "    \n",
    "    for edge in ('top', 'left', 'bottom', 'right'):\n",
    "        if edge in kwargs:\n",
    "            edgeEl = OxmlElement(f'w:{edge}')\n",
    "            edgeEl.set(qn('w:val'), kwargs.get(edge))\n",
    "            edgeEl.set(qn('w:sz'), '4')  # 4 for 1/2 pt, 8 for 1 pt\n",
    "            edgeEl.set(qn('w:space'), '0')\n",
    "            edgeEl.set(qn('w:color'), '000000')  # black color\n",
    "            tcPr.append(edgeEl)\n",
    "\n",
    "# # Values to be inserted into the table\n",
    "# market_rate = round(44.1892)\n",
    "# weighted_average = round(40.172)\n",
    "# rate_adopted = round(36.52)\n",
    "\n",
    "# Create a new Document\n",
    "doc = Document()\n",
    "\n",
    "# Add a table with 2 columns and 3 rows\n",
    "table = doc.add_table(rows=3, cols=2)\n",
    "\n",
    "# Populate the table\n",
    "table.cell(0, 0).text = \"Market rate *(Current Market Rate inquired from Local Resident (RS.)/Ropani )\"\n",
    "table.cell(0, 1).text = str(market_rate)\n",
    "table.cell(1, 0).text = \"Weighted Average Calculation:\"\n",
    "table.cell(1, 1).text = str(weighted_average)\n",
    "table.cell(2, 0).text = \"Land Rate Adopted in this Report (Rs.)/Ropani:\"\n",
    "table.cell(2, 1).text = str(rate_adopted)\n",
    "\n",
    "# Applying border to all cells\n",
    "for row in table.rows:\n",
    "    for cell in row.cells:\n",
    "        set_cell_border(cell, top=\"single\", left=\"single\", bottom=\"single\", right=\"single\")\n",
    "\n",
    "# Save the document\n",
    "file_path = \"Land_Rate_Report_with_Borders.docx\"\n",
    "doc.save(file_path)\n",
    "\n",
    "print(f\"Document saved at: {file_path}\")\n"
   ]
  },
  {
   "cell_type": "code",
   "execution_count": 95,
   "id": "bfaa15ec",
   "metadata": {},
   "outputs": [
    {
     "data": {
      "text/plain": [
       "'5,55,666'"
      ]
     },
     "execution_count": 95,
     "metadata": {},
     "output_type": "execute_result"
    }
   ],
   "source": []
  },
  {
   "cell_type": "code",
   "execution_count": null,
   "id": "aaf61ded",
   "metadata": {},
   "outputs": [],
   "source": []
  }
 ],
 "metadata": {
  "kernelspec": {
   "display_name": "Python 3 (ipykernel)",
   "language": "python",
   "name": "python3"
  },
  "language_info": {
   "codemirror_mode": {
    "name": "ipython",
    "version": 3
   },
   "file_extension": ".py",
   "mimetype": "text/x-python",
   "name": "python",
   "nbconvert_exporter": "python",
   "pygments_lexer": "ipython3",
   "version": "3.11.9"
  }
 },
 "nbformat": 4,
 "nbformat_minor": 5
}
