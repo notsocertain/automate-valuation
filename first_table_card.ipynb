{
 "cells": [
  {
   "cell_type": "code",
   "execution_count": 2,
   "id": "0e3c6300",
   "metadata": {},
   "outputs": [],
   "source": [
    "import pandas as pd\n",
    "import docx\n",
    "import numpy as np"
   ]
  },
  {
   "cell_type": "code",
   "execution_count": 3,
   "id": "b9ef5fd8",
   "metadata": {},
   "outputs": [],
   "source": [
    "df = pd.read_excel('raw.xlsx')"
   ]
  },
  {
   "cell_type": "code",
   "execution_count": 4,
   "id": "dcf61f0b",
   "metadata": {},
   "outputs": [
    {
     "data": {
      "text/html": [
       "<div>\n",
       "<style scoped>\n",
       "    .dataframe tbody tr th:only-of-type {\n",
       "        vertical-align: middle;\n",
       "    }\n",
       "\n",
       "    .dataframe tbody tr th {\n",
       "        vertical-align: top;\n",
       "    }\n",
       "\n",
       "    .dataframe thead th {\n",
       "        text-align: right;\n",
       "    }\n",
       "</style>\n",
       "<table border=\"1\" class=\"dataframe\">\n",
       "  <thead>\n",
       "    <tr style=\"text-align: right;\">\n",
       "      <th></th>\n",
       "      <th>OwnerName</th>\n",
       "      <th>OwnershipType</th>\n",
       "      <th>OwnersAddress</th>\n",
       "      <th>CitizenshipNumebr</th>\n",
       "      <th>CitizenshipDate</th>\n",
       "      <th>Relationship</th>\n",
       "      <th>PlotNumbers1</th>\n",
       "      <th>PlotNumbers2</th>\n",
       "      <th>PlotNumbers3</th>\n",
       "      <th>Address1</th>\n",
       "      <th>Address2</th>\n",
       "      <th>Address3</th>\n",
       "      <th>AreaPlot1</th>\n",
       "      <th>AreaPlot2</th>\n",
       "      <th>AreaPlot3</th>\n",
       "      <th>AreaPlot1sqm</th>\n",
       "      <th>AreaPlot2sqm</th>\n",
       "      <th>AreaPlot3sqm</th>\n",
       "    </tr>\n",
       "  </thead>\n",
       "  <tbody>\n",
       "    <tr>\n",
       "      <th>0</th>\n",
       "      <td>sameep</td>\n",
       "      <td>sinlge</td>\n",
       "      <td>kapan</td>\n",
       "      <td>5555-4444</td>\n",
       "      <td>2066-06-05</td>\n",
       "      <td>father</td>\n",
       "      <td>111</td>\n",
       "      <td>222</td>\n",
       "      <td>333</td>\n",
       "      <td>dang</td>\n",
       "      <td>ghorahi</td>\n",
       "      <td>tulsipur</td>\n",
       "      <td>0-1-2</td>\n",
       "      <td>0-1-5</td>\n",
       "      <td>0-1-8</td>\n",
       "      <td>550</td>\n",
       "      <td>600</td>\n",
       "      <td>1000</td>\n",
       "    </tr>\n",
       "    <tr>\n",
       "      <th>1</th>\n",
       "      <td>manongya</td>\n",
       "      <td>joint</td>\n",
       "      <td>budhanilkantha</td>\n",
       "      <td>555/565</td>\n",
       "      <td>2015-05-06</td>\n",
       "      <td>uncle</td>\n",
       "      <td>5,55,666</td>\n",
       "      <td>666</td>\n",
       "      <td>777</td>\n",
       "      <td>birgunj</td>\n",
       "      <td>betiya</td>\n",
       "      <td>muzaffarpur</td>\n",
       "      <td>0-1-3</td>\n",
       "      <td>0-2-3</td>\n",
       "      <td>0-2-8</td>\n",
       "      <td>400</td>\n",
       "      <td>300</td>\n",
       "      <td>800</td>\n",
       "    </tr>\n",
       "    <tr>\n",
       "      <th>2</th>\n",
       "      <td>manongya</td>\n",
       "      <td>joint</td>\n",
       "      <td>budhanilkantha</td>\n",
       "      <td>555/565</td>\n",
       "      <td>2015-05-06</td>\n",
       "      <td>uncle</td>\n",
       "      <td>5,55,666</td>\n",
       "      <td>666</td>\n",
       "      <td>777</td>\n",
       "      <td>birgunj</td>\n",
       "      <td>betiya</td>\n",
       "      <td>muzaffarpur</td>\n",
       "      <td>250 m2</td>\n",
       "      <td>0-2-3</td>\n",
       "      <td>0-2-8</td>\n",
       "      <td>400</td>\n",
       "      <td>300</td>\n",
       "      <td>800</td>\n",
       "    </tr>\n",
       "  </tbody>\n",
       "</table>\n",
       "</div>"
      ],
      "text/plain": [
       "  OwnerName OwnershipType   OwnersAddress CitizenshipNumebr CitizenshipDate  \\\n",
       "0    sameep        sinlge           kapan         5555-4444      2066-06-05   \n",
       "1  manongya         joint  budhanilkantha           555/565      2015-05-06   \n",
       "2  manongya         joint  budhanilkantha           555/565      2015-05-06   \n",
       "\n",
       "  Relationship PlotNumbers1  PlotNumbers2  PlotNumbers3 Address1 Address2  \\\n",
       "0       father          111           222           333     dang  ghorahi   \n",
       "1        uncle     5,55,666           666           777  birgunj   betiya   \n",
       "2        uncle     5,55,666           666           777  birgunj   betiya   \n",
       "\n",
       "      Address3 AreaPlot1 AreaPlot2 AreaPlot3  AreaPlot1sqm  AreaPlot2sqm  \\\n",
       "0     tulsipur     0-1-2     0-1-5     0-1-8           550           600   \n",
       "1  muzaffarpur     0-1-3     0-2-3     0-2-8           400           300   \n",
       "2  muzaffarpur    250 m2     0-2-3     0-2-8           400           300   \n",
       "\n",
       "   AreaPlot3sqm  \n",
       "0          1000  \n",
       "1           800  \n",
       "2           800  "
      ]
     },
     "execution_count": 4,
     "metadata": {},
     "output_type": "execute_result"
    }
   ],
   "source": [
    "df.head()"
   ]
  },
  {
   "cell_type": "code",
   "execution_count": 5,
   "id": "d08af7ae",
   "metadata": {},
   "outputs": [],
   "source": [
    "# Function to add a paragraph with bold data\n",
    "def add_bold_paragraph(doc, text, bold_part):\n",
    "    para = doc.add_paragraph()\n",
    "    para.add_run(text).bold = False\n",
    "    para.add_run(bold_part).bold = True"
   ]
  },
  {
   "cell_type": "code",
   "execution_count": 6,
   "id": "54420982",
   "metadata": {},
   "outputs": [],
   "source": [
    "# Sample data\n",
    "data = {\n",
    "    \"name_client\": [\"Mr. Niraj Bhandari\"],\n",
    "    \"address_client\": [\"Kanakai Ward No.04, Ilam\"],\n",
    "    \"owner\": [\"Mr. Devi Prasad Bhandari\"],\n",
    "    \"plot\":[\"111,222\"],\n",
    "    \"ctzno\": [\"641/3269\"],\n",
    "    \"issuedate\": [\"2036/10/16 AD\"],\n",
    "    \"address_owner\": [\"Kanakai Ward No.04, Ilam\"],\n",
    "    \"relationship\": [\"Grandfather\"]\n",
    "}\n",
    "\n",
    "# Creating the DataFrame"
   ]
  },
  {
   "cell_type": "code",
   "execution_count": 7,
   "id": "362192d1",
   "metadata": {},
   "outputs": [
    {
     "data": {
      "text/html": [
       "<div>\n",
       "<style scoped>\n",
       "    .dataframe tbody tr th:only-of-type {\n",
       "        vertical-align: middle;\n",
       "    }\n",
       "\n",
       "    .dataframe tbody tr th {\n",
       "        vertical-align: top;\n",
       "    }\n",
       "\n",
       "    .dataframe thead th {\n",
       "        text-align: right;\n",
       "    }\n",
       "</style>\n",
       "<table border=\"1\" class=\"dataframe\">\n",
       "  <thead>\n",
       "    <tr style=\"text-align: right;\">\n",
       "      <th></th>\n",
       "      <th>name_client</th>\n",
       "      <th>address_client</th>\n",
       "      <th>owner</th>\n",
       "      <th>plot</th>\n",
       "      <th>ctzno</th>\n",
       "      <th>issuedate</th>\n",
       "      <th>address_owner</th>\n",
       "      <th>relationship</th>\n",
       "    </tr>\n",
       "  </thead>\n",
       "  <tbody>\n",
       "    <tr>\n",
       "      <th>0</th>\n",
       "      <td>Mr. Niraj Bhandari</td>\n",
       "      <td>Kanakai Ward No.04, Ilam</td>\n",
       "      <td>Mr. Devi Prasad Bhandari</td>\n",
       "      <td>111,222</td>\n",
       "      <td>641/3269</td>\n",
       "      <td>2036/10/16 AD</td>\n",
       "      <td>Kanakai Ward No.04, Ilam</td>\n",
       "      <td>Grandfather</td>\n",
       "    </tr>\n",
       "  </tbody>\n",
       "</table>\n",
       "</div>"
      ],
      "text/plain": [
       "          name_client            address_client                     owner  \\\n",
       "0  Mr. Niraj Bhandari  Kanakai Ward No.04, Ilam  Mr. Devi Prasad Bhandari   \n",
       "\n",
       "      plot     ctzno      issuedate             address_owner relationship  \n",
       "0  111,222  641/3269  2036/10/16 AD  Kanakai Ward No.04, Ilam  Grandfather  "
      ]
     },
     "execution_count": 7,
     "metadata": {},
     "output_type": "execute_result"
    }
   ],
   "source": [
    "df = pd.DataFrame(data)\n",
    "df.head()"
   ]
  },
  {
   "cell_type": "code",
   "execution_count": 9,
   "id": "87837bf0",
   "metadata": {},
   "outputs": [
    {
     "data": {
      "text/plain": [
       "'Client_Information.docx'"
      ]
     },
     "execution_count": 9,
     "metadata": {},
     "output_type": "execute_result"
    }
   ],
   "source": [
    "import pandas as pd\n",
    "from docx import Document\n",
    "from docx.shared import Pt\n",
    "from docx.oxml.ns import qn\n",
    "from docx.oxml import OxmlElement\n",
    "\n",
    "# Assuming `data` is already defined and used to create the DataFrame\n",
    "df = pd.DataFrame(data)\n",
    "\n",
    "# Extracting data\n",
    "name_client = df.loc[0, \"name_client\"]\n",
    "address_client = df.loc[0, \"address_client\"]\n",
    "owner = df.loc[0, \"owner\"]\n",
    "ctzno = df.loc[0, \"ctzno\"]\n",
    "issuedate = df.loc[0, \"issuedate\"]\n",
    "address_owner = df.loc[0, \"address_owner\"]\n",
    "relationship = df.loc[0, \"relationship\"]\n",
    "plot = df.loc[0, \"plot\"]\n",
    "\n",
    "# Function to add a paragraph with bold text\n",
    "def add_bold_paragraph(doc, label, text):\n",
    "    paragraph = doc.add_paragraph()\n",
    "    run = paragraph.add_run(label)\n",
    "    run.bold = True\n",
    "    run = paragraph.add_run(text)\n",
    "\n",
    "# Creating the Word document\n",
    "doc = Document()\n",
    "\n",
    "# Adding paragraphs with bold data\n",
    "add_bold_paragraph(doc, \"Name of Client/Applicant: \", name_client)\n",
    "add_bold_paragraph(doc, \"Address of Client: \", address_client)\n",
    "add_bold_paragraph(doc, f\"Owner of the Property (Plot no: {plot}): \", owner)\n",
    "add_bold_paragraph(doc, \"Citizenship No. & Issued Date: \", f\"{ctzno}, {issuedate}\")\n",
    "add_bold_paragraph(doc, \"Address of the Owner: \", address_owner)\n",
    "add_bold_paragraph(doc, \"Relationship with the Client: \", relationship)\n",
    "\n",
    "# Saving the document\n",
    "file_path = \"Client_Information.docx\"\n",
    "doc.save(file_path)\n",
    "\n",
    "file_path\n"
   ]
  },
  {
   "cell_type": "markdown",
   "id": "d2df3262",
   "metadata": {},
   "source": [
    "# FOR TABLE"
   ]
  },
  {
   "cell_type": "code",
   "execution_count": 10,
   "id": "b6707136",
   "metadata": {},
   "outputs": [],
   "source": [
    "# import pandas as pd\n",
    "# from docx import Document\n",
    "# from docx.oxml.ns import qn\n",
    "# from docx.oxml import OxmlElement\n",
    "\n",
    "# # Sample data for the table\n",
    "# data = {\n",
    "#     \"S.N.\": [1, 2],\n",
    "#     \"OWNERíS NAME\": [\"sameep\", \"sameep\"],\n",
    "#     \"LOCATION (ADDRESS OF PROPERTY)\": [\"kapan\", \"kapan\"],\n",
    "#     \"OWNERSHIP_TYPE\": [\"single\", \"single\"],\n",
    "#     \"PLOT NO.\": [555, 666],\n",
    "#     \"AREA(m2)\": [250, 300]\n",
    "# }\n",
    "\n",
    "# # Creating the DataFrame\n",
    "# df_table = pd.DataFrame(data)\n",
    "\n",
    "# # Creating the Word document\n",
    "# doc = Document()\n",
    "\n",
    "# # Adding a table with the data\n",
    "# table = doc.add_table(rows=1, cols=len(df_table.columns))\n",
    "# hdr_cells = table.rows[0].cells\n",
    "# for i, column_name in enumerate(df_table.columns):\n",
    "#     hdr_cells[i].text = column_name\n",
    "\n",
    "# # Adding data to the table\n",
    "# for index, row in df_table.iterrows():\n",
    "#     row_cells = table.add_row().cells\n",
    "#     for i, value in enumerate(row):\n",
    "#         row_cells[i].text = str(value)\n",
    "\n",
    "# # Function to set cell border\n",
    "# def set_cell_border(cell, **kwargs):\n",
    "#     tc = cell._element\n",
    "#     tcPr = tc.get_or_add_tcPr()\n",
    "    \n",
    "#     for edge in ('top', 'left', 'bottom', 'right'):\n",
    "#         if edge in kwargs:\n",
    "#             edgeEl = OxmlElement(f'w:{edge}')\n",
    "#             edgeEl.set(qn('w:val'), kwargs.get(edge))\n",
    "#             edgeEl.set(qn('w:sz'), '4')  # 4 for 1/2 pt, 8 for 1 pt\n",
    "#             edgeEl.set(qn('w:space'), '0')\n",
    "#             edgeEl.set(qn('w:color'), '000000')  # black color\n",
    "#             tcPr.append(edgeEl)\n",
    "\n",
    "# # Applying border to all cells\n",
    "# for row in table.rows:\n",
    "#     for cell in row.cells:\n",
    "#         set_cell_border(cell, top=\"single\", left=\"single\", bottom=\"single\", right=\"single\")\n",
    "\n",
    "# # Saving the document\n",
    "# doc.save(\"Property_Table_with_Borders.docx\")\n"
   ]
  },
  {
   "cell_type": "markdown",
   "id": "2a993de2",
   "metadata": {},
   "source": [
    "# CONVERSION METRICS"
   ]
  },
  {
   "cell_type": "code",
   "execution_count": 15,
   "id": "0d6d98f0",
   "metadata": {},
   "outputs": [],
   "source": [
    "def sqft_to_rapd(sqft):\n",
    "    ropani = int(sqft // 5476)\n",
    "    remaining_sqft = sqft % 5476\n",
    "    aana = int(remaining_sqft // 342.25)\n",
    "    remaining_sqft %= 342.25\n",
    "    paisa = int(remaining_sqft // 85.56)\n",
    "    remaining_sqft %= 85.56\n",
    "    daam = round(remaining_sqft / 21.39,3)\n",
    "    return (ropani, aana, paisa, daam)\n",
    "\n",
    "def sqm_to_rapd(sqft):\n",
    "    ropani = int(sqft // 508.737)\n",
    "    remaining_sqft = sqft % 508.737\n",
    "    aana = int(remaining_sqft // 31.796)\n",
    "    remaining_sqft %= 31.796\n",
    "    paisa = int(remaining_sqft // 7.949)\n",
    "    remaining_sqft %= 7.949\n",
    "    daam = round(remaining_sqft / 1.987, 3)\n",
    "    return (ropani, aana, paisa, daam)\n",
    "\n",
    "\n",
    "def rapd_to_sqft(ropani, aana, paisa, daam):\n",
    "    sqft = (ropani * 5476) + (aana * 342.25) + (paisa * 85.56) + (daam * 21.39)\n",
    "    sqft = round(sqft,2)\n",
    "    return sqft\n",
    "\n",
    "def rapd_to_sqm(ropani, aana, paisa, daam):\n",
    "    sqm = (ropani * 508.737 ) + (aana * 31.796) + (paisa * 7.949 ) + (daam * 1.987)\n",
    "    sqm = round(sqm,2)\n",
    "    return sqm\n",
    "\n",
    "def sqm_to_sqft(sqm):\n",
    "    sqft = sqm / 0.092903\n",
    "    return round(sqft, 2)\n",
    "    \n",
    "\n",
    "def sqft_to_sqm(sqft):\n",
    "    sqm = sqft * 0.092903\n",
    "    return round(sqm, 2)"
   ]
  },
  {
   "cell_type": "code",
   "execution_count": 128,
   "id": "9f5d509c",
   "metadata": {},
   "outputs": [
    {
     "name": "stdout",
     "output_type": "stream",
     "text": [
      "508.74\n"
     ]
    }
   ],
   "source": [
    "print(rapd_to_sqm(1,0,0,0))"
   ]
  },
  {
   "cell_type": "code",
   "execution_count": 26,
   "id": "e14fe16a",
   "metadata": {},
   "outputs": [
    {
     "name": "stdout",
     "output_type": "stream",
     "text": [
      "(0, 7, 3, 1.802)\n"
     ]
    }
   ],
   "source": [
    "print(sqm_to_rapd(250.0)) #3"
   ]
  },
  {
   "cell_type": "code",
   "execution_count": 27,
   "id": "193bb8ea",
   "metadata": {},
   "outputs": [
    {
     "name": "stdout",
     "output_type": "stream",
     "text": [
      "(0, 0, 2, 3.688)\n"
     ]
    }
   ],
   "source": [
    "print(sqft_to_rapd(250.0)) #3"
   ]
  },
  {
   "cell_type": "code",
   "execution_count": 131,
   "id": "d559ef2f",
   "metadata": {},
   "outputs": [
    {
     "name": "stdout",
     "output_type": "stream",
     "text": [
      "1132.73\n"
     ]
    }
   ],
   "source": [
    "print(rapd_to_sqm(2,3,2,2)) #2"
   ]
  },
  {
   "cell_type": "code",
   "execution_count": 132,
   "id": "a226d85d",
   "metadata": {},
   "outputs": [
    {
     "name": "stdout",
     "output_type": "stream",
     "text": [
      "9.36\n"
     ]
    }
   ],
   "source": [
    "print(sqft_to_sqm(100.76))"
   ]
  },
  {
   "cell_type": "markdown",
   "id": "cc885aa0",
   "metadata": {},
   "source": [
    "# FILLING MISSING UNITS"
   ]
  },
  {
   "cell_type": "code",
   "execution_count": 11,
   "id": "0b06d7f0",
   "metadata": {},
   "outputs": [],
   "source": [
    "# Sample data for the table\n",
    "data = {\n",
    "    \"S.N.\": [1, 2],\n",
    "    \"OWNERíS NAME\": [\"sameep\", \"sameep\"],\n",
    "    \"LOCATION (ADDRESS OF PROPERTY)\": [\"kapan\", \"kapan\"],\n",
    "    \"OWNERSHIP_TYPE\": [\"single\", \"single\"],\n",
    "    \"PLOT NO.\": [555, 666],\n",
    "    \"AREA(m2)\": [250, np.nan],\n",
    "    \"AREA(ft2)\": [np.nan, 330],  \n",
    "    \"AREA(rapd)\": [np.nan, np.nan]\n",
    "}"
   ]
  },
  {
   "cell_type": "code",
   "execution_count": 12,
   "id": "8de602a9",
   "metadata": {},
   "outputs": [],
   "source": [
    "# Convert to DataFrame\n",
    "df = pd.DataFrame(data)"
   ]
  },
  {
   "cell_type": "code",
   "execution_count": 13,
   "id": "23044e6f",
   "metadata": {},
   "outputs": [
    {
     "name": "stdout",
     "output_type": "stream",
     "text": [
      "   S.N. OWNERíS NAME LOCATION (ADDRESS OF PROPERTY) OWNERSHIP_TYPE  PLOT NO.  \\\n",
      "0     1       sameep                          kapan         single       555   \n",
      "1     2       sameep                          kapan         single       666   \n",
      "\n",
      "   AREA(m2)  AREA(ft2)  AREA(rapd)  \n",
      "0     250.0        NaN         NaN  \n",
      "1       NaN      330.0         NaN  \n"
     ]
    }
   ],
   "source": [
    "print(df)"
   ]
  },
  {
   "cell_type": "code",
   "execution_count": 16,
   "id": "54b668e6",
   "metadata": {},
   "outputs": [
    {
     "name": "stdout",
     "output_type": "stream",
     "text": [
      "   S.N. OWNERíS NAME LOCATION (ADDRESS OF PROPERTY) OWNERSHIP_TYPE  PLOT NO.  \\\n",
      "0     1       sameep                          kapan         single       555   \n",
      "1     2       sameep                          kapan         single       666   \n",
      "\n",
      "   AREA(m2)  AREA(ft2)   AREA(rapd)  \n",
      "0    250.00    2690.98  0-7-3-1.802  \n",
      "1     30.66     330.00  0-0-3-3.428  \n"
     ]
    }
   ],
   "source": [
    "import pandas as pd\n",
    "import numpy as np\n",
    "\n",
    "# Sample data for the table\n",
    "data = {\n",
    "    \"S.N.\": [1, 2],\n",
    "    \"OWNERíS NAME\": [\"sameep\", \"sameep\"],\n",
    "    \"LOCATION (ADDRESS OF PROPERTY)\": [\"kapan\", \"kapan\"],\n",
    "    \"OWNERSHIP_TYPE\": [\"single\", \"single\"],\n",
    "    \"PLOT NO.\": [555, 666],\n",
    "    \"AREA(m2)\": [250, np.nan],\n",
    "    \"AREA(ft2)\": [np.nan, 330],  \n",
    "    \"AREA(rapd)\": [np.nan, np.nan]\n",
    "}\n",
    "\n",
    "# Convert to DataFrame\n",
    "df = pd.DataFrame(data)\n",
    "\n",
    "# Define helper functions for each conversion\n",
    "def ft2_to_m2(ft2):\n",
    "    if pd.notnull(ft2):\n",
    "        return sqft_to_sqm(ft2)\n",
    "    else:\n",
    "        return np.nan\n",
    "\n",
    "def m2_to_ft2(m2):\n",
    "    if pd.notnull(m2):\n",
    "        return sqm_to_sqft(m2)\n",
    "    else:\n",
    "        return np.nan\n",
    "\n",
    "def ft2_to_rapd(ft2):\n",
    "    if pd.notnull(ft2):\n",
    "        ropani, aana, paisa, daam = sqft_to_rapd(ft2)\n",
    "        return f\"{ropani}-{aana}-{paisa}-{daam}\"\n",
    "    else:\n",
    "        return np.nan\n",
    "\n",
    "def rapd_to_ft2(rapd):\n",
    "    if pd.notnull(rapd):\n",
    "        ropani, aana, paisa, daam = rapd\n",
    "        return rapd_to_sqft(ropani, aana, paisa, daam)\n",
    "    else:\n",
    "        return np.nan\n",
    "\n",
    "def rapd_to_m2(rapd):\n",
    "    if pd.notnull(rapd):\n",
    "        ropani, aana, paisa, daam = rapd\n",
    "        return rapd_to_sqm(ropani, aana, paisa, daam)\n",
    "    else:\n",
    "        return np.nan\n",
    "\n",
    "def m2_to_rapd(m2):\n",
    "    if pd.notnull(m2):\n",
    "        ft2 = sqm_to_sqft(m2)\n",
    "        return ft2_to_rapd(ft2)\n",
    "    else:\n",
    "        return np.nan\n",
    "\n",
    "# Extract rapd from the string representation for conversion\n",
    "def extract_rapd(rapd_str):\n",
    "    if pd.notnull(rapd_str):\n",
    "        parts = rapd_str.split(\", \")\n",
    "        return tuple(float(part.split()[0]) for part in parts)\n",
    "    else:\n",
    "        return np.nan\n",
    "\n",
    "# Fill missing values\n",
    "for i, row in df.iterrows():\n",
    "    if pd.isnull(row[\"AREA(m2)\"]):\n",
    "        if pd.notnull(row[\"AREA(ft2)\"]):\n",
    "            df.at[i, \"AREA(m2)\"] = ft2_to_m2(row[\"AREA(ft2)\"])\n",
    "        elif pd.notnull(row[\"AREA(rapd)\"]):\n",
    "            rapd = extract_rapd(row[\"AREA(rapd)\"])\n",
    "            df.at[i, \"AREA(m2)\"] = rapd_to_m2(rapd)\n",
    "    \n",
    "    if pd.isnull(row[\"AREA(ft2)\"]):\n",
    "        if pd.notnull(row[\"AREA(m2)\"]):\n",
    "            df.at[i, \"AREA(ft2)\"] = m2_to_ft2(row[\"AREA(m2)\"])\n",
    "        elif pd.notnull(row[\"AREA(rapd)\"]):\n",
    "            rapd = extract_rapd(row[\"AREA(rapd)\"])\n",
    "            df.at[i, \"AREA(ft2)\"] = rapd_to_ft2(rapd)\n",
    "    \n",
    "    if pd.isnull(row[\"AREA(rapd)\"]):\n",
    "        if pd.notnull(row[\"AREA(ft2)\"]):\n",
    "            df.at[i, \"AREA(rapd)\"] = ft2_to_rapd(row[\"AREA(ft2)\"])\n",
    "        elif pd.notnull(row[\"AREA(m2)\"]):\n",
    "            df.at[i, \"AREA(rapd)\"] = m2_to_rapd(row[\"AREA(m2)\"])\n",
    "\n",
    "print(df)\n"
   ]
  },
  {
   "cell_type": "code",
   "execution_count": 137,
   "id": "f4862b67",
   "metadata": {},
   "outputs": [
    {
     "name": "stdout",
     "output_type": "stream",
     "text": [
      "   S.N. OWNERíS NAME LOCATION (ADDRESS OF PROPERTY) OWNERSHIP_TYPE  PLOT NO.  \\\n",
      "0     1       sameep                          kapan         single       555   \n",
      "1     2       sameep                          kapan         single       666   \n",
      "\n",
      "   AREA(m2)  AREA(ft2)   AREA(rapd)  \n",
      "0    250.00    2690.98  0-7-3-1.802  \n",
      "1     30.66     330.00  0-0-3-3.428  \n"
     ]
    }
   ],
   "source": [
    "print(df)"
   ]
  },
  {
   "cell_type": "code",
   "execution_count": 17,
   "id": "5a34cd83",
   "metadata": {},
   "outputs": [],
   "source": [
    "# Export DataFrame to Excel\n",
    "df.to_excel(\"output.xlsx\", index=False)"
   ]
  },
  {
   "cell_type": "markdown",
   "id": "b8b1e497",
   "metadata": {},
   "source": [
    "# MAKING TABLE AFTER FILLING MISSING UNIT CONVERSION"
   ]
  },
  {
   "cell_type": "code",
   "execution_count": 18,
   "id": "f218b597",
   "metadata": {},
   "outputs": [
    {
     "data": {
      "text/html": [
       "<div>\n",
       "<style scoped>\n",
       "    .dataframe tbody tr th:only-of-type {\n",
       "        vertical-align: middle;\n",
       "    }\n",
       "\n",
       "    .dataframe tbody tr th {\n",
       "        vertical-align: top;\n",
       "    }\n",
       "\n",
       "    .dataframe thead th {\n",
       "        text-align: right;\n",
       "    }\n",
       "</style>\n",
       "<table border=\"1\" class=\"dataframe\">\n",
       "  <thead>\n",
       "    <tr style=\"text-align: right;\">\n",
       "      <th></th>\n",
       "      <th>S.N.</th>\n",
       "      <th>OWNERíS NAME</th>\n",
       "      <th>LOCATION (ADDRESS OF PROPERTY)</th>\n",
       "      <th>OWNERSHIP_TYPE</th>\n",
       "      <th>PLOT NO.</th>\n",
       "      <th>AREA(m2)</th>\n",
       "      <th>AREA(ft2)</th>\n",
       "      <th>AREA(rapd)</th>\n",
       "    </tr>\n",
       "  </thead>\n",
       "  <tbody>\n",
       "    <tr>\n",
       "      <th>0</th>\n",
       "      <td>1</td>\n",
       "      <td>sameep</td>\n",
       "      <td>kapan</td>\n",
       "      <td>single</td>\n",
       "      <td>555</td>\n",
       "      <td>250.00</td>\n",
       "      <td>2690.98</td>\n",
       "      <td>0-7-3-1.802</td>\n",
       "    </tr>\n",
       "    <tr>\n",
       "      <th>1</th>\n",
       "      <td>2</td>\n",
       "      <td>sameep</td>\n",
       "      <td>kapan</td>\n",
       "      <td>single</td>\n",
       "      <td>666</td>\n",
       "      <td>30.66</td>\n",
       "      <td>330.00</td>\n",
       "      <td>0-0-3-3.428</td>\n",
       "    </tr>\n",
       "  </tbody>\n",
       "</table>\n",
       "</div>"
      ],
      "text/plain": [
       "   S.N. OWNERíS NAME LOCATION (ADDRESS OF PROPERTY) OWNERSHIP_TYPE  PLOT NO.  \\\n",
       "0     1       sameep                          kapan         single       555   \n",
       "1     2       sameep                          kapan         single       666   \n",
       "\n",
       "   AREA(m2)  AREA(ft2)   AREA(rapd)  \n",
       "0    250.00    2690.98  0-7-3-1.802  \n",
       "1     30.66     330.00  0-0-3-3.428  "
      ]
     },
     "execution_count": 18,
     "metadata": {},
     "output_type": "execute_result"
    }
   ],
   "source": [
    "# Creating the DataFrame\n",
    "df_table = df\n",
    "df_table.head()"
   ]
  },
  {
   "cell_type": "code",
   "execution_count": 23,
   "id": "980738e9",
   "metadata": {},
   "outputs": [],
   "source": [
    "import pandas as pd\n",
    "from docx import Document\n",
    "from docx.oxml.ns import qn\n",
    "from docx.oxml import OxmlElement\n",
    "\n",
    "# Creating the DataFrame\n",
    "df_table = df\n",
    "\n",
    "# Creating the Word document\n",
    "doc = Document()\n",
    "\n",
    "# Adding a table with the data\n",
    "table = doc.add_table(rows=1, cols=len(df_table.columns))\n",
    "hdr_cells = table.rows[0].cells\n",
    "for i, column_name in enumerate(df_table.columns):\n",
    "    hdr_cells[i].text = column_name\n",
    "    for paragraph in hdr_cells[i].paragraphs:\n",
    "        for run in paragraph.runs:\n",
    "            run.bold = True\n",
    "\n",
    "# Adding data to the table\n",
    "for index, row in df_table.iterrows():\n",
    "    row_cells = table.add_row().cells\n",
    "    for i, value in enumerate(row):\n",
    "        row_cells[i].text = str(value)\n",
    "        for paragraph in row_cells[i].paragraphs:\n",
    "            for run in paragraph.runs:\n",
    "                run.bold = True\n",
    "\n",
    "# Function to set cell border\n",
    "def set_cell_border(cell, **kwargs):\n",
    "    tc = cell._element\n",
    "    tcPr = tc.get_or_add_tcPr()\n",
    "    \n",
    "    for edge in ('top', 'left', 'bottom', 'right'):\n",
    "        if edge in kwargs:\n",
    "            edgeEl = OxmlElement(f'w:{edge}')\n",
    "            edgeEl.set(qn('w:val'), kwargs.get(edge))\n",
    "            edgeEl.set(qn('w:sz'), '4')  # 4 for 1/2 pt, 8 for 1 pt\n",
    "            edgeEl.set(qn('w:space'), '0')\n",
    "            edgeEl.set(qn('w:color'), '000000')  # black color\n",
    "            tcPr.append(edgeEl)\n",
    "\n",
    "# Applying border to all cells\n",
    "for row in table.rows:\n",
    "    for cell in row.cells:\n",
    "        set_cell_border(cell, top=\"single\", left=\"single\", bottom=\"single\", right=\"single\")\n",
    "\n",
    "# Saving the document\n",
    "doc.save(\"Property_Table_with_Borders.docx\")\n"
   ]
  },
  {
   "cell_type": "code",
   "execution_count": 25,
   "id": "2c6f8c1a",
   "metadata": {},
   "outputs": [],
   "source": [
    "import pandas as pd\n",
    "from docx import Document\n",
    "from docx.oxml.ns import qn\n",
    "from docx.oxml import OxmlElement\n",
    "from docx.shared import Inches\n",
    "\n",
    "# Creating the DataFrame\n",
    "df_table = df\n",
    "\n",
    "# Creating the Word document\n",
    "doc = Document()\n",
    "\n",
    "# Adding a table with the data\n",
    "table = doc.add_table(rows=1, cols=len(df_table.columns))\n",
    "hdr_cells = table.rows[0].cells\n",
    "for i, column_name in enumerate(df_table.columns):\n",
    "    hdr_cells[i].text = column_name\n",
    "    for paragraph in hdr_cells[i].paragraphs:\n",
    "        for run in paragraph.runs:\n",
    "            run.bold = True\n",
    "\n",
    "# Adding data to the table\n",
    "for index, row in df_table.iterrows():\n",
    "    row_cells = table.add_row().cells\n",
    "    for i, value in enumerate(row):\n",
    "        row_cells[i].text = str(value)\n",
    "        for paragraph in row_cells[i].paragraphs:\n",
    "            for run in paragraph.runs:\n",
    "                run.bold = True\n",
    "\n",
    "# Function to set cell border\n",
    "def set_cell_border(cell, **kwargs):\n",
    "    tc = cell._element\n",
    "    tcPr = tc.get_or_add_tcPr()\n",
    "    \n",
    "    for edge in ('top', 'left', 'bottom', 'right'):\n",
    "        if edge in kwargs:\n",
    "            edgeEl = OxmlElement(f'w:{edge}')\n",
    "            edgeEl.set(qn('w:val'), kwargs.get(edge))\n",
    "            edgeEl.set(qn('w:sz'), '4')  # 4 for 1/2 pt, 8 for 1 pt\n",
    "            edgeEl.set(qn('w:space'), '0')\n",
    "            edgeEl.set(qn('w:color'), '000000')  # black color\n",
    "            tcPr.append(edgeEl)\n",
    "\n",
    "# Applying border to all cells\n",
    "for row in table.rows:\n",
    "    for cell in row.cells:\n",
    "        set_cell_border(cell, top=\"single\", left=\"single\", bottom=\"single\", right=\"single\")\n",
    "\n",
    "# Function to set column width\n",
    "def set_column_width(column, width):\n",
    "    for cell in column.cells:\n",
    "        cell.width = width\n",
    "\n",
    "# Setting different column widths\n",
    "column_widths = [Inches(1), Inches(4), Inches(8), Inches(4), Inches(3), Inches(1.5), Inches(2), Inches(2.5)]\n",
    "\n",
    "for i, column in enumerate(table.columns):\n",
    "    set_column_width(column, column_widths[i])\n",
    "\n",
    "# Saving the document\n",
    "doc.save(\"Property_Table_with_Borders.docx\")\n"
   ]
  },
  {
   "cell_type": "code",
   "execution_count": null,
   "id": "ace5d0eb",
   "metadata": {},
   "outputs": [],
   "source": []
  }
 ],
 "metadata": {
  "kernelspec": {
   "display_name": "Python 3 (ipykernel)",
   "language": "python",
   "name": "python3"
  },
  "language_info": {
   "codemirror_mode": {
    "name": "ipython",
    "version": 3
   },
   "file_extension": ".py",
   "mimetype": "text/x-python",
   "name": "python",
   "nbconvert_exporter": "python",
   "pygments_lexer": "ipython3",
   "version": "3.9.18"
  }
 },
 "nbformat": 4,
 "nbformat_minor": 5
}
